{
  "nbformat": 4,
  "nbformat_minor": 0,
  "metadata": {
    "colab": {
      "name": "黑马程序员NLP（P1~6）.ipynb",
      "provenance": [],
      "collapsed_sections": [
        "1WPNd0JpmYuz"
      ],
      "mount_file_id": "1E13lwDJklUw8ekZV2QelEfrBF4pgIwpg",
      "authorship_tag": "ABX9TyOzmHEbhAjhplCASPpJUxer",
      "include_colab_link": true
    },
    "kernelspec": {
      "name": "python3",
      "display_name": "Python 3"
    }
  },
  "cells": [
    {
      "cell_type": "markdown",
      "metadata": {
        "id": "view-in-github",
        "colab_type": "text"
      },
      "source": [
        "<a href=\"https://colab.research.google.com/github/phdsx/Pytorch-NLP/blob/main/%E9%BB%91%E9%A9%AC%E7%A8%8B%E5%BA%8F%E5%91%98NLP%EF%BC%88P1~6%EF%BC%89.ipynb\" target=\"_parent\"><img src=\"https://colab.research.google.com/assets/colab-badge.svg\" alt=\"Open In Colab\"/></a>"
      ]
    },
    {
      "cell_type": "markdown",
      "metadata": {
        "id": "1WPNd0JpmYuz"
      },
      "source": [
        "# P1"
      ]
    },
    {
      "cell_type": "markdown",
      "metadata": {
        "id": "xrVhWmb-hUwL"
      },
      "source": [
        "导入"
      ]
    },
    {
      "cell_type": "code",
      "metadata": {
        "id": "p5XNWjGsfxlB"
      },
      "source": [
        "import torch,numpy"
      ],
      "execution_count": 21,
      "outputs": []
    },
    {
      "cell_type": "markdown",
      "metadata": {
        "id": "1NP2RUb4hb9t"
      },
      "source": [
        "空矩阵"
      ]
    },
    {
      "cell_type": "code",
      "metadata": {
        "colab": {
          "base_uri": "https://localhost:8080/"
        },
        "id": "IASKPCPjguOH",
        "outputId": "ef99e8d8-800c-4ff5-a931-f2116d312251"
      },
      "source": [
        "x=torch.empty(5,3)\r\n",
        "print(x)"
      ],
      "execution_count": 4,
      "outputs": [
        {
          "output_type": "stream",
          "text": [
            "tensor([[-2.7445e-13,  3.0767e-41,  0.0000e+00],\n",
            "        [ 0.0000e+00,  0.0000e+00,  0.0000e+00],\n",
            "        [ 0.0000e+00,  0.0000e+00,  0.0000e+00],\n",
            "        [ 0.0000e+00,  0.0000e+00,  0.0000e+00],\n",
            "        [ 0.0000e+00,  0.0000e+00,  0.0000e+00]])\n"
          ],
          "name": "stdout"
        }
      ]
    },
    {
      "cell_type": "markdown",
      "metadata": {
        "id": "JhF7y2Kjhhaw"
      },
      "source": [
        "随机矩阵"
      ]
    },
    {
      "cell_type": "code",
      "metadata": {
        "colab": {
          "base_uri": "https://localhost:8080/"
        },
        "id": "923Cshqyg6b0",
        "outputId": "da3539f5-50ef-4583-93a1-b47436156b9b"
      },
      "source": [
        "x=torch.rand(5,3)\r\n",
        "print(x)"
      ],
      "execution_count": 5,
      "outputs": [
        {
          "output_type": "stream",
          "text": [
            "tensor([[0.7961, 0.4973, 0.1876],\n",
            "        [0.7048, 0.7478, 0.4999],\n",
            "        [0.8302, 0.3618, 0.5026],\n",
            "        [0.5292, 0.7454, 0.2834],\n",
            "        [0.2832, 0.4187, 0.8654]])\n"
          ],
          "name": "stdout"
        }
      ]
    },
    {
      "cell_type": "code",
      "metadata": {
        "colab": {
          "base_uri": "https://localhost:8080/"
        },
        "id": "pt5uCjoviGh2",
        "outputId": "5c731c3f-af71-486f-a098-296c939563fb"
      },
      "source": [
        "x=torch.zeros(5,3,dtype=torch.long)\r\n",
        "y=torch.zeros(5,3,dtype=torch.double)\r\n",
        "print(x,y)"
      ],
      "execution_count": 8,
      "outputs": [
        {
          "output_type": "stream",
          "text": [
            "tensor([[0, 0, 0],\n",
            "        [0, 0, 0],\n",
            "        [0, 0, 0],\n",
            "        [0, 0, 0],\n",
            "        [0, 0, 0]]) tensor([[0., 0., 0.],\n",
            "        [0., 0., 0.],\n",
            "        [0., 0., 0.],\n",
            "        [0., 0., 0.],\n",
            "        [0., 0., 0.]], dtype=torch.float64)\n"
          ],
          "name": "stdout"
        }
      ]
    },
    {
      "cell_type": "code",
      "metadata": {
        "colab": {
          "base_uri": "https://localhost:8080/"
        },
        "id": "mcPXTorCjENc",
        "outputId": "7f9d8b70-11ee-46b4-ec6b-02467d772631"
      },
      "source": [
        "x=torch.rand(5,3)\r\n",
        "print(x)"
      ],
      "execution_count": 9,
      "outputs": [
        {
          "output_type": "stream",
          "text": [
            "tensor([[0.2619, 0.4961, 0.3552],\n",
            "        [0.4741, 0.9441, 0.0703],\n",
            "        [0.0604, 0.5770, 0.0337],\n",
            "        [0.4685, 0.6185, 0.2921],\n",
            "        [0.7657, 0.9099, 0.3920]])\n"
          ],
          "name": "stdout"
        }
      ]
    },
    {
      "cell_type": "code",
      "metadata": {
        "colab": {
          "base_uri": "https://localhost:8080/"
        },
        "id": "Dg-jRWJdjMqi",
        "outputId": "f420433b-6fba-4237-fd81-d8d03ae2ff30"
      },
      "source": [
        "print(x[1,:])"
      ],
      "execution_count": 13,
      "outputs": [
        {
          "output_type": "stream",
          "text": [
            "tensor([0.4741, 0.9441, 0.0703])\n"
          ],
          "name": "stdout"
        }
      ]
    },
    {
      "cell_type": "code",
      "metadata": {
        "colab": {
          "base_uri": "https://localhost:8080/"
        },
        "id": "wlp3Oec6jZ26",
        "outputId": "59cc253f-dc85-4899-8212-bda9bf674786"
      },
      "source": [
        "y=x.view(15)\r\n",
        "print(y)"
      ],
      "execution_count": 14,
      "outputs": [
        {
          "output_type": "stream",
          "text": [
            "tensor([0.2619, 0.4961, 0.3552, 0.4741, 0.9441, 0.0703, 0.0604, 0.5770, 0.0337,\n",
            "        0.4685, 0.6185, 0.2921, 0.7657, 0.9099, 0.3920])\n"
          ],
          "name": "stdout"
        }
      ]
    },
    {
      "cell_type": "code",
      "metadata": {
        "colab": {
          "base_uri": "https://localhost:8080/"
        },
        "id": "JD3WrKMQjZso",
        "outputId": "70cfdd85-f2ba-429b-86fc-df76f8b15549"
      },
      "source": [
        "y=x.view(-1,5)\r\n",
        "print(y)"
      ],
      "execution_count": 15,
      "outputs": [
        {
          "output_type": "stream",
          "text": [
            "tensor([[0.2619, 0.4961, 0.3552, 0.4741, 0.9441],\n",
            "        [0.0703, 0.0604, 0.5770, 0.0337, 0.4685],\n",
            "        [0.6185, 0.2921, 0.7657, 0.9099, 0.3920]])\n"
          ],
          "name": "stdout"
        }
      ]
    },
    {
      "cell_type": "code",
      "metadata": {
        "colab": {
          "base_uri": "https://localhost:8080/"
        },
        "id": "i1JSAI7QjwYQ",
        "outputId": "6b48f8a4-80cc-4dd7-edb2-732db833027c"
      },
      "source": [
        "print(x.size())"
      ],
      "execution_count": 17,
      "outputs": [
        {
          "output_type": "stream",
          "text": [
            "torch.Size([5, 3])\n"
          ],
          "name": "stdout"
        }
      ]
    },
    {
      "cell_type": "code",
      "metadata": {
        "colab": {
          "base_uri": "https://localhost:8080/"
        },
        "id": "UmzSzaLkkhmJ",
        "outputId": "5bb41c1f-41f7-4e3a-f9fe-482732697f1d"
      },
      "source": [
        "x=torch.randn(1)\r\n",
        "print(x)\r\n",
        "print(x.item())"
      ],
      "execution_count": 20,
      "outputs": [
        {
          "output_type": "stream",
          "text": [
            "tensor([-2.4638])\n",
            "-2.4638311862945557\n"
          ],
          "name": "stdout"
        }
      ]
    },
    {
      "cell_type": "code",
      "metadata": {
        "colab": {
          "base_uri": "https://localhost:8080/"
        },
        "id": "U_7hl-57lLLC",
        "outputId": "37c70ef1-cb08-4266-ff32-f8765c87a4f7"
      },
      "source": [
        "a=torch.ones(5)\r\n",
        "print(a)"
      ],
      "execution_count": 22,
      "outputs": [
        {
          "output_type": "stream",
          "text": [
            "tensor([1., 1., 1., 1., 1.])\n"
          ],
          "name": "stdout"
        }
      ]
    },
    {
      "cell_type": "code",
      "metadata": {
        "colab": {
          "base_uri": "https://localhost:8080/"
        },
        "id": "BrJrvJQDlqUY",
        "outputId": "32420224-c4ea-4ac5-c1bd-80124cb0507e"
      },
      "source": [
        "b=a.numpy()\r\n",
        "print(b)"
      ],
      "execution_count": 23,
      "outputs": [
        {
          "output_type": "stream",
          "text": [
            "[1. 1. 1. 1. 1.]\n"
          ],
          "name": "stdout"
        }
      ]
    },
    {
      "cell_type": "code",
      "metadata": {
        "colab": {
          "base_uri": "https://localhost:8080/"
        },
        "id": "WoqVntt6lwxE",
        "outputId": "8ac69f0f-796a-4202-dbcc-67c30378733a"
      },
      "source": [
        "a.add_(3)\r\n",
        "print(a,b)"
      ],
      "execution_count": 26,
      "outputs": [
        {
          "output_type": "stream",
          "text": [
            "tensor([4., 4., 4., 4., 4.]) [4. 4. 4. 4. 4.]\n"
          ],
          "name": "stdout"
        }
      ]
    },
    {
      "cell_type": "markdown",
      "metadata": {
        "id": "NY5O3Xk9meDq"
      },
      "source": [
        "# P6 类型转换2"
      ]
    },
    {
      "cell_type": "code",
      "metadata": {
        "colab": {
          "base_uri": "https://localhost:8080/"
        },
        "id": "SjCxJnEpmoUW",
        "outputId": "c67a3d1e-81c9-49a2-f017-e9f9c68ea310"
      },
      "source": [
        "a=numpy.ones(5)\r\n",
        "b=torch.from_numpy(a)\r\n",
        "numpy.add(a,1,out=a)\r\n",
        "print(a)\r\n",
        "print(b)"
      ],
      "execution_count": 27,
      "outputs": [
        {
          "output_type": "stream",
          "text": [
            "[2. 2. 2. 2. 2.]\n",
            "tensor([2., 2., 2., 2., 2.], dtype=torch.float64)\n"
          ],
          "name": "stdout"
        }
      ]
    },
    {
      "cell_type": "code",
      "metadata": {
        "id": "FwBexooIn1lw"
      },
      "source": [
        "from google.colab import drive\n",
        "drive.mount('/content/drive')"
      ],
      "execution_count": null,
      "outputs": []
    }
  ]
}